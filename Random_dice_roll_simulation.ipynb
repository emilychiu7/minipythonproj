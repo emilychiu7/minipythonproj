{
  "nbformat": 4,
  "nbformat_minor": 0,
  "metadata": {
    "colab": {
      "name": "Random dice roll simulation",
      "provenance": [],
      "authorship_tag": "ABX9TyN+0V9NclOK2o4DduJpylaS",
      "include_colab_link": true
    },
    "kernelspec": {
      "name": "python3",
      "display_name": "Python 3"
    },
    "language_info": {
      "name": "python"
    }
  },
  "cells": [
    {
      "cell_type": "markdown",
      "metadata": {
        "id": "view-in-github",
        "colab_type": "text"
      },
      "source": [
        "<a href=\"https://colab.research.google.com/github/emilychiu7/minipythonproj/blob/main/Random_dice_roll_simulation.ipynb\" target=\"_parent\"><img src=\"https://colab.research.google.com/assets/colab-badge.svg\" alt=\"Open In Colab\"/></a>"
      ]
    },
    {
      "cell_type": "code",
      "execution_count": null,
      "metadata": {
        "colab": {
          "base_uri": "https://localhost:8080/"
        },
        "id": "6V1RokKBIZSr",
        "outputId": "98f4c1dc-d050-4697-c4ad-37dd180933a2"
      },
      "outputs": [
        {
          "output_type": "stream",
          "name": "stdout",
          "text": [
            "Type 1, to roll the dice, or 2, to exit the game.\n"
          ]
        }
      ],
      "source": [
        "#Using random module, loop, if-else\n",
        "import random\n",
        "while True:\n",
        "  print('Type 1, to roll the dice, or 2, to exit the game.')\n",
        "  user=int(input(\"What's your next move?\\n\"))\n",
        "  if user==1:\n",
        "    number=random.randint(1,6)\n",
        "    print(number)\n",
        "  else:\n",
        "    break"
      ]
    }
  ]
}